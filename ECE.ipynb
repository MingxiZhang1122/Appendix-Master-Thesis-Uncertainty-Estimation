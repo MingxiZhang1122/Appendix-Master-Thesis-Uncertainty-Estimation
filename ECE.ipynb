{
 "cells": [
  {
   "cell_type": "code",
   "execution_count": 1,
   "metadata": {},
   "outputs": [],
   "source": [
    "import numpy as np\n",
    "\n",
    "# py = y_pred\n",
    "def ece_score(py, y_test, n_bins=10):\n",
    "    py = np.array(py)\n",
    "    y_test = np.array(y_test)\n",
    "    if y_test.ndim > 1:\n",
    "        y_test = np.argmax(y_test, axis=1)\n",
    "    py_index = np.argmax(py, axis=1)\n",
    "    py_value = []\n",
    "    for i in range(py.shape[0]):\n",
    "        py_value.append(py[i, py_index[i]])\n",
    "    py_value = np.array(py_value)\n",
    "    acc, conf = np.zeros(n_bins), np.zeros(n_bins)\n",
    "    Bm = np.zeros(n_bins)\n",
    "    for m in range(n_bins):\n",
    "        a, b = m / n_bins, (m + 1) / n_bins\n",
    "        for i in range(py.shape[0]):\n",
    "            if py_value[i] > a and py_value[i] <= b:\n",
    "                Bm[m] += 1\n",
    "                if py_index[i] == y_test[i]:\n",
    "                    acc[m] += 1\n",
    "                conf[m] += py_value[i]\n",
    "        if Bm[m] != 0:\n",
    "            acc[m] = acc[m] / Bm[m]\n",
    "            conf[m] = conf[m] / Bm[m]\n",
    "    ece = 0\n",
    "    for m in range(n_bins):\n",
    "        ece += Bm[m] * np.abs((acc[m] - conf[m]))\n",
    "    return ece / sum(Bm)\n"
   ]
  }
 ],
 "metadata": {
  "kernelspec": {
   "display_name": "Python 3",
   "language": "python",
   "name": "python3"
  },
  "language_info": {
   "codemirror_mode": {
    "name": "ipython",
    "version": 3
   },
   "file_extension": ".py",
   "mimetype": "text/x-python",
   "name": "python",
   "nbconvert_exporter": "python",
   "pygments_lexer": "ipython3",
   "version": "3.8.3"
  }
 },
 "nbformat": 4,
 "nbformat_minor": 4
}
